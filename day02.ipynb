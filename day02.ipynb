{
 "cells": [
  {
   "cell_type": "markdown",
   "metadata": {},
   "source": [
    "# 🎁 [Day 2](https://adventofcode.com/2020/day/2)"
   ]
  },
  {
   "cell_type": "code",
   "execution_count": 11,
   "metadata": {},
   "outputs": [],
   "source": [
    "def calculate_depth(lines, x=0, y=0):\n",
    "    for line in lines:\n",
    "        act, v = line.split()\n",
    "        v = int(v)\n",
    "        if act == \"forward\":\n",
    "            x += v\n",
    "        elif act == \"down\":\n",
    "            y += v\n",
    "        elif act == \"up\":\n",
    "            y -= v\n",
    "        else:\n",
    "            raise ValueError(f\"Unknown action {act}\")\n",
    "    return x, y\n",
    "\n",
    "def calculate_depth_corrected(lines, x=0, y=0, aim=0):\n",
    "    for line in lines:\n",
    "        act, v = line.split()\n",
    "        v = int(v)\n",
    "        if act == \"forward\":\n",
    "            x += v\n",
    "            y += v * aim\n",
    "        elif act == \"down\":\n",
    "            aim += v\n",
    "        elif act == \"up\":\n",
    "            aim -= v\n",
    "        else:\n",
    "            raise ValueError(f\"Unknown action {act}\")\n",
    "    return x, y"
   ]
  },
  {
   "cell_type": "code",
   "execution_count": 12,
   "metadata": {},
   "outputs": [
    {
     "name": "stdout",
     "output_type": "stream",
     "text": [
      "The final horizontal and depth positions are x=1845, y=916\n",
      "The final horizontal and depth positions are x=1845, y=763408 after the aim is taken into account\n"
     ]
    }
   ],
   "source": [
    "with open('inputs/day02.txt', 'r') as f:\n",
    "    acts = f.read().splitlines()\n",
    "    \n",
    "print(\"The final horizontal and depth positions are x={0}, y={1}\".format(*calculate_depth(acts)))\n",
    "print(\"The final horizontal and depth positions are x={0}, y={1} after the aim is taken into account\".format(\n",
    "    *calculate_depth_corrected(acts)))"
   ]
  }
 ],
 "metadata": {
  "kernelspec": {
   "display_name": "Python 3",
   "language": "python",
   "name": "python3"
  },
  "language_info": {
   "codemirror_mode": {
    "name": "ipython",
    "version": 3
   },
   "file_extension": ".py",
   "mimetype": "text/x-python",
   "name": "python",
   "nbconvert_exporter": "python",
   "pygments_lexer": "ipython3",
   "version": "3.8.10"
  }
 },
 "nbformat": 4,
 "nbformat_minor": 4
}
