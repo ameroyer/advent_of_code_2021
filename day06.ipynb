{
 "cells": [
  {
   "cell_type": "markdown",
   "metadata": {},
   "source": [
    "# ☃️ [Day 6](https://adventofcode.com/2021/day/6)"
   ]
  },
  {
   "cell_type": "markdown",
   "metadata": {},
   "source": [
    "Suppose we have one jellyfish with initial timer $c_0$. We denote by $J_t$ the number of jellyfish at time $t$.\n",
    "We have:\n",
    "  * $J_0 = 1$\n",
    "  * $J_{c_0} = 2$ (`first jellyfish is created`)\n",
    "  * $J_{c_0 + 7} = 3$ (`second jellyfish is created`)\n",
    "  * $J_{c_0 + 9} = 4$ (`the first jelly-child also creates a jellyfish`)\n",
    "\n",
    "For a simpler recursive relation, we can try to look at the *number of jellyfish created at instant $k$*. At time $k$, a new jellyfish can be create either by:\n",
    "  * A mother jellyfish (`a jellyfish that has never given birth yet, counter initialized to 8 = 10 time steps`)\n",
    "  * A grand-mother jellyfish (`has given birth, previous counter to 6 = 8 time steps`)\n",
    "  \n",
    " So we have:\n",
    " $G(k) = sum_p G(k - 10 - 8 * p)$"
   ]
  },
  {
   "cell_type": "code",
   "execution_count": 1,
   "metadata": {},
   "outputs": [],
   "source": [
    "from collections import defaultdict\n",
    "def get_jellyfish_number(n, c0s, reset_period=7, puberty_period=9):\n",
    "    # number of jellyfish that are created at day n\n",
    "    # assuming an initial counter of 0\n",
    "    gs = defaultdict(lambda: 0)\n",
    "    gs[-puberty_period] = 1\n",
    "    for p in range(0, n + 1):\n",
    "        # new jellyfish are created by the \n",
    "        # father generation n - puberty_period\n",
    "        # grandfater generation n - puberty_period - reset_period * k\n",
    "        start = p - puberty_period\n",
    "        while start >= -puberty_period:\n",
    "            gs[p] += gs[start]\n",
    "            start -= reset_period\n",
    "            \n",
    "    # Sum to get the total number of jellyfish that can be created in n\n",
    "    # days with an initial counter of 0\n",
    "    gs = [gs[k] for k in range(n + 1)]\n",
    "    gs = [sum(gs[:k]) for k in range(n + 1)]\n",
    "            \n",
    "    # Sum over all counters\n",
    "    out = sum(1 + gs[n - c0] for c0 in c0s)\n",
    "    return out"
   ]
  },
  {
   "cell_type": "code",
   "execution_count": 2,
   "metadata": {},
   "outputs": [
    {
     "name": "stdout",
     "output_type": "stream",
     "text": [
      "After 80 days, there are already \u001b[92;1m371379\u001b[0m jellyfish\n",
      "After 256 days, there's a craze number of \u001b[91;1m1674303997472\u001b[0m jellyfish\n"
     ]
    }
   ],
   "source": [
    "with open('inputs/day06.txt', 'r') as f:\n",
    "    inputs = list(map(int, f.read().split(',')))\n",
    "    \n",
    "print(f\"After 80 days, there are already \\033[92;1m{get_jellyfish_number(80, inputs)}\\033[0m jellyfish\")\n",
    "print(f\"After 256 days, there's a craze number of \\033[91;1m{get_jellyfish_number(256, inputs)}\\033[0m\"\n",
    "      \" jellyfish\")"
   ]
  }
 ],
 "metadata": {
  "kernelspec": {
   "display_name": "Python 3",
   "language": "python",
   "name": "python3"
  },
  "language_info": {
   "codemirror_mode": {
    "name": "ipython",
    "version": 3
   },
   "file_extension": ".py",
   "mimetype": "text/x-python",
   "name": "python",
   "nbconvert_exporter": "python",
   "pygments_lexer": "ipython3",
   "version": "3.8.10"
  }
 },
 "nbformat": 4,
 "nbformat_minor": 4
}
