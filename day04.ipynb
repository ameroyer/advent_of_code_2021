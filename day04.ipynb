{
 "cells": [
  {
   "cell_type": "markdown",
   "metadata": {},
   "source": [
    "# 🌠 [Day 4](https://adventofcode.com/2021/day/4)"
   ]
  },
  {
   "cell_type": "code",
   "execution_count": 1,
   "metadata": {},
   "outputs": [],
   "source": [
    "class BingoBoard(object):\n",
    "    \n",
    "    def __init__(self, txt):\n",
    "        self.lines = []\n",
    "        self.columns = []\n",
    "        self.index_rows = {}\n",
    "        self.index_cols = {}\n",
    "        for i, row in enumerate(txt.split('\\n')):\n",
    "            self.lines.append({})\n",
    "            for j, c in enumerate(row.strip().split()):\n",
    "                if i == 0:\n",
    "                    self.columns.append({})\n",
    "                c = int(c)\n",
    "                self.lines[i][c] = True\n",
    "                self.columns[j][c] = True\n",
    "                self.index_rows[c] = i\n",
    "                self.index_cols[c] = j\n",
    "        \n",
    "    @property\n",
    "    def has_won(self):\n",
    "        return (sum(sum(x.values()) == 0 for x in self.lines) > 0 or \n",
    "                sum(sum(x.values()) == 0 for x in self.columns) > 0)\n",
    "    \n",
    "    def draw_number(self, x):\n",
    "        if x in self.index_rows:\n",
    "            self.lines[self.index_rows[x]][x] = False\n",
    "        if x in self.index_cols:\n",
    "            self.columns[self.index_cols[x]][x] = False\n",
    "            \n",
    "    @property\n",
    "    def unmarked_sum(self):\n",
    "        return sum(k for x in self.lines for k, v in x.items() if v)\n",
    "    \n",
    "    def display(self):\n",
    "        print(\"\\n\".join(\" \".join(str(k).ljust(4) if v else f\"\\033[91;1m{str(k).ljust(4)}\\033[0m\"\n",
    "                                 for k, v in x.items()) for x in self.lines))\n",
    "            \n",
    "def play_bingo(input_str):\n",
    "    boards = [BingoBoard(x) for x in input_str[1:]]\n",
    "    for num in input_str[0].split(','):\n",
    "        num = int(num)\n",
    "        for i, b in enumerate(boards):\n",
    "            b.draw_number(num)\n",
    "            if b.has_won:\n",
    "                print(\"Ding Ding Ding ! We have a \\033[92;1mwinner\\033[0m !!!\")\n",
    "                print(f\"The last number drawn was {num}\")\n",
    "                print(f\"Board {i + 1} won the bingo!\\n\")\n",
    "                b.display()\n",
    "                print(f\"\\n\\033[47mscore = {num * b.unmarked_sum}\\033[0m\")\n",
    "                return\n",
    "            \n",
    "            \n",
    "def play_loser_bingo(input_str):\n",
    "    boards = [BingoBoard(x) for x in input_str[1:]]\n",
    "    winning_boards = [False] * len(boards)\n",
    "    num_wins = 0\n",
    "    for num in input_str[0].split(','):\n",
    "        num = int(num)\n",
    "        for i, b in enumerate(boards):\n",
    "            if winning_boards[i]: \n",
    "                continue\n",
    "            b.draw_number(num)\n",
    "            if b.has_won:\n",
    "                winning_boards[i] = True\n",
    "                num_wins += 1\n",
    "                if num_wins == len(winning_boards):\n",
    "                    print(\"Ding Ding Ding ! We have a \\033[91;1mloser\\033[0m !!!\")\n",
    "                    print(f\"The last number drawn was {num}\")\n",
    "                    print(f\"Board {i + 1} will win the bingo last\\n\")\n",
    "                    b.display()\n",
    "                    print(f\"\\n\\033[47mscore = {num * b.unmarked_sum}\\033[0m\")\n",
    "                    return"
   ]
  },
  {
   "cell_type": "code",
   "execution_count": 2,
   "metadata": {},
   "outputs": [],
   "source": [
    "with open('inputs/day04.txt', 'r') as f:\n",
    "    inputs = f.read().strip().split('\\n\\n')"
   ]
  },
  {
   "cell_type": "code",
   "execution_count": 3,
   "metadata": {},
   "outputs": [
    {
     "name": "stdout",
     "output_type": "stream",
     "text": [
      "Ding Ding Ding ! We have a \u001b[92;1mwinner\u001b[0m !!!\n",
      "The last number drawn was 42\n",
      "Board 74 won the bingo!\n",
      "\n",
      "26   89   27   47   \u001b[91;1m91  \u001b[0m\n",
      "15   9    18   62   28  \n",
      "\u001b[91;1m31  \u001b[0m \u001b[91;1m96  \u001b[0m \u001b[91;1m42  \u001b[0m \u001b[91;1m81  \u001b[0m \u001b[91;1m86  \u001b[0m\n",
      "11   52   20   93   38  \n",
      "83   64   39   1    60  \n",
      "\n",
      "\u001b[47mscore = 32844\u001b[0m\n"
     ]
    }
   ],
   "source": [
    "play_bingo(inputs)"
   ]
  },
  {
   "cell_type": "code",
   "execution_count": 4,
   "metadata": {},
   "outputs": [
    {
     "name": "stdout",
     "output_type": "stream",
     "text": [
      "Ding Ding Ding ! We have a \u001b[91;1mloser\u001b[0m !!!\n",
      "The last number drawn was 20\n",
      "Board 66 will win the bingo last\n",
      "\n",
      "\u001b[91;1m85  \u001b[0m \u001b[91;1m64  \u001b[0m 44   \u001b[91;1m39  \u001b[0m \u001b[91;1m57  \u001b[0m\n",
      "\u001b[91;1m90  \u001b[0m 30   \u001b[91;1m15  \u001b[0m \u001b[91;1m35  \u001b[0m \u001b[91;1m54  \u001b[0m\n",
      "\u001b[91;1m78  \u001b[0m \u001b[91;1m89  \u001b[0m \u001b[91;1m55  \u001b[0m 99   \u001b[91;1m12  \u001b[0m\n",
      "\u001b[91;1m80  \u001b[0m \u001b[91;1m96  \u001b[0m \u001b[91;1m20  \u001b[0m \u001b[91;1m50  \u001b[0m \u001b[91;1m45  \u001b[0m\n",
      "56   \u001b[91;1m10  \u001b[0m \u001b[91;1m71  \u001b[0m \u001b[91;1m59  \u001b[0m 17  \n",
      "\n",
      "\u001b[47mscore = 4920\u001b[0m\n"
     ]
    }
   ],
   "source": [
    "play_loser_bingo(inputs)"
   ]
  }
 ],
 "metadata": {
  "kernelspec": {
   "display_name": "Python 3",
   "language": "python",
   "name": "python3"
  },
  "language_info": {
   "codemirror_mode": {
    "name": "ipython",
    "version": 3
   },
   "file_extension": ".py",
   "mimetype": "text/x-python",
   "name": "python",
   "nbconvert_exporter": "python",
   "pygments_lexer": "ipython3",
   "version": "3.8.10"
  }
 },
 "nbformat": 4,
 "nbformat_minor": 4
}
