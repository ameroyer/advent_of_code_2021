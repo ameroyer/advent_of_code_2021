{
 "cells": [
  {
   "cell_type": "markdown",
   "metadata": {},
   "source": [
    "# 💗 [Day 9](https://adventofcode.com/2021/day/9)"
   ]
  },
  {
   "cell_type": "code",
   "execution_count": 1,
   "metadata": {},
   "outputs": [],
   "source": [
    "import numpy as np\n",
    "\n",
    "def conv2d(flt, arr, padding=0):\n",
    "    out = np.zeros_like(arr)\n",
    "    left = int(np.floor(flt.shape[0] / 2))\n",
    "    right = int(np.ceil(flt.shape[0] / 2))\n",
    "    top = int(np.floor(flt.shape[1] / 2))\n",
    "    bottom = int(np.ceil(flt.shape[1] / 2))\n",
    "    arr = np.pad(arr, ((left, right), (top, bottom)), \n",
    "                 mode='constant', constant_values=padding)\n",
    "    for i in range(out.shape[0]):\n",
    "        for j in range(out.shape[1]):\n",
    "            out[i, j] = np.sum(flt * arr[i:i + left + right,\n",
    "                                         j:j + top + bottom])\n",
    "    return out\n",
    "\n",
    "\n",
    "def get_low_points(arr):\n",
    "    filters = np.zeros((4, 3, 3))\n",
    "    filters[:, 1, 1] = -1\n",
    "    filters[0, 0, 1] = 1  # top\n",
    "    filters[1, 1, 2] = 1  # right\n",
    "    filters[2, 2, 1] = 1  # bottom\n",
    "    filters[3, 1, 0] = 1  # left\n",
    "    is_low_point = sum(conv2d(filters[i], arr, padding=9) <= 0 for i in range(4)) == 0\n",
    "    risk_levels = np.sum(is_low_point * (arr + 1))\n",
    "    return is_low_point, risk_levels\n",
    "\n",
    "\n",
    "def expand_bassin(arr, start):\n",
    "    queue = [start]\n",
    "    bassin_size = 0\n",
    "    while len(queue):\n",
    "        x, y = queue.pop()\n",
    "        if 0 <= x < arr.shape[0] and 0 <= y < arr.shape[1]:\n",
    "            if 9 > arr[x, y] >= 0:\n",
    "                bassin_size += 1\n",
    "                queue.append((x - 1, y))\n",
    "                queue.append((x + 1, y))\n",
    "                queue.append((x, y - 1))\n",
    "                queue.append((x, y + 1))\n",
    "                arr[x, y] = 9\n",
    "    return bassin_size\n",
    "    \n",
    "\n",
    "def get_bassins(arr):\n",
    "    # The low points are the center of bassins (because if a point \n",
    "    # is not a low point, then it can always flow in to something \n",
    "    # else). So we can simply expand the low points\n",
    "    low_points, _ = get_low_points(arr)\n",
    "    bassin_sizes = [expand_bassin(arr, start) for start in np.argwhere(low_points)]\n",
    "    bassin_sizes = sorted(bassin_sizes, key= lambda x:- x)\n",
    "    return bassin_sizes[0] * bassin_sizes[1] * bassin_sizes[2]"
   ]
  },
  {
   "cell_type": "code",
   "execution_count": 2,
   "metadata": {},
   "outputs": [
    {
     "name": "stdout",
     "output_type": "stream",
     "text": [
      "The risk level of the low points is \u001b[92;1m548\u001b[0m\n",
      "The top-3 largest bassins sizes multiplied together yield \u001b[92;1m786048\u001b[0m\n",
      "\n",
      "CPU times: user 946 ms, sys: 3.4 ms, total: 949 ms\n",
      "Wall time: 955 ms\n"
     ]
    }
   ],
   "source": [
    "%%time\n",
    "with open('inputs/day09.txt', 'r') as f:\n",
    "    inputs = f.read()\n",
    "    inputs = np.array([[int(c) for c in x] for x in inputs.splitlines()])\n",
    "    \n",
    "    \n",
    "print(f\"The risk level of the low points is \\033[92;1m{get_low_points(inputs)[1]}\\033[0m\")\n",
    "print(f\"The top-3 largest bassins sizes multiplied together yield \\033[92;1m{get_bassins(inputs)}\\033[0m\")\n",
    "print()"
   ]
  }
 ],
 "metadata": {
  "kernelspec": {
   "display_name": "Python 3",
   "language": "python",
   "name": "python3"
  },
  "language_info": {
   "codemirror_mode": {
    "name": "ipython",
    "version": 3
   },
   "file_extension": ".py",
   "mimetype": "text/x-python",
   "name": "python",
   "nbconvert_exporter": "python",
   "pygments_lexer": "ipython3",
   "version": "3.8.10"
  }
 },
 "nbformat": 4,
 "nbformat_minor": 4
}
