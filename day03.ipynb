{
 "cells": [
  {
   "cell_type": "markdown",
   "metadata": {},
   "source": [
    "# 🎄 [Day 3](https://adventofcode.com/2021/day/3)"
   ]
  },
  {
   "cell_type": "code",
   "execution_count": 1,
   "metadata": {},
   "outputs": [],
   "source": [
    "def find_gamma_and_epsilon(inputs):\n",
    "    aux = [0] * len(inputs[0])\n",
    "    for line in inputs:\n",
    "        for i, x in enumerate(line):\n",
    "            aux[i] += 1 if int(x) else -1\n",
    "    gamma, epsilon = 0, 0\n",
    "    for c in aux:\n",
    "        gamma = 2 * gamma + int(c > 0)\n",
    "        epsilon = 2 *  epsilon + int(c < 0)\n",
    "    return gamma, epsilon\n",
    "    \n",
    "    \n",
    "def find_o2_and_co2(inputs):\n",
    "    num_o2, num_co2 = 0, 0\n",
    "    previous_o2, previous_co2 = 0, 0\n",
    "    indices_o2 = {k: True for k in range(len(inputs))}\n",
    "    indices_co2 = {k: True for k in range(len(inputs))}\n",
    "    for c in range(len(inputs[0])):\n",
    "        # O2: Most common\n",
    "        if len(indices_o2) == 1:\n",
    "            aux = inputs[list(indices_o2.keys())[0]]\n",
    "            num_o2 = 0\n",
    "            for v in aux:\n",
    "                num_o2 = 2 * num_o2 + int(v)\n",
    "            indices_o2 = {}\n",
    "        elif len(indices_o2) > 0:\n",
    "            v = 0\n",
    "            for i in list(indices_o2.keys()):\n",
    "                if c > 0 and int(inputs[i][c - 1]) != previous_o2:\n",
    "                    del indices_o2[i]\n",
    "                else:\n",
    "                    v += 1 if int(inputs[i][c]) else -1\n",
    "            previous_o2 = int(v >= 0)\n",
    "            num_o2 = 2  * num_o2 + previous_o2\n",
    "        # CO2: Least common\n",
    "        if len(indices_co2) == 1:\n",
    "            aux = inputs[list(indices_co2.keys())[0]]\n",
    "            num_co2 = 0\n",
    "            for v in aux:\n",
    "                num_co2 = 2 * num_co2 + int(v)\n",
    "            indices_co2 = {}\n",
    "        elif len(indices_co2) > 1:\n",
    "            v = 0\n",
    "            for i in list(indices_co2.keys()):\n",
    "                if c > 0 and int(inputs[i][c - 1]) != previous_co2:\n",
    "                    del indices_co2[i]\n",
    "                else:\n",
    "                    v += 1 if int(inputs[i][c]) else -1\n",
    "            previous_co2 = int(v < 0)\n",
    "            num_co2 = 2  * num_co2 + previous_co2\n",
    "                \n",
    "    return num_o2, num_co2"
   ]
  },
  {
   "cell_type": "code",
   "execution_count": 2,
   "metadata": {},
   "outputs": [
    {
     "name": "stdout",
     "output_type": "stream",
     "text": [
      "The power comsumption is given by gamma=\u001b[;1m3797\u001b[0m and epsilon=\u001b[;1m298\u001b[0m\n",
      "The O2 and CO2 rates are given by \u001b[;1m4089\u001b[0m and \u001b[;1m1923\u001b[0m\n"
     ]
    }
   ],
   "source": [
    "with open('inputs/day03.txt', 'r') as f:\n",
    "    inputs = f.read().splitlines()\n",
    "\n",
    "print(\"The power comsumption is given by gamma=\\033[;1m{0}\\033[0m and epsilon=\\033[;1m{1}\\033[0m\".format(\n",
    "    *find_gamma_and_epsilon(inputs)))\n",
    "print(\"The O2 and CO2 rates are given by \\033[;1m{0}\\033[0m and \\033[;1m{1}\\033[0m\".format(\n",
    "    *find_o2_and_co2(inputs)))"
   ]
  }
 ],
 "metadata": {
  "kernelspec": {
   "display_name": "Python 3",
   "language": "python",
   "name": "python3"
  },
  "language_info": {
   "codemirror_mode": {
    "name": "ipython",
    "version": 3
   },
   "file_extension": ".py",
   "mimetype": "text/x-python",
   "name": "python",
   "nbconvert_exporter": "python",
   "pygments_lexer": "ipython3",
   "version": "3.8.10"
  },
  "widgets": {
   "application/vnd.jupyter.widget-state+json": {
    "state": {},
    "version_major": 2,
    "version_minor": 0
   }
  }
 },
 "nbformat": 4,
 "nbformat_minor": 4
}
