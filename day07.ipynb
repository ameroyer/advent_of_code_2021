{
 "cells": [
  {
   "cell_type": "markdown",
   "metadata": {},
   "source": [
    "# ❄️ [Day 7](https://adventofcode.com/2021/day/7)"
   ]
  },
  {
   "cell_type": "code",
   "execution_count": 1,
   "metadata": {},
   "outputs": [],
   "source": [
    "import numpy as np\n",
    "\n",
    "def find_alignment_constant_cost(crabs):\n",
    "    crabs = np.array(crabs)\n",
    "    xs = np.arange(np.amin(crabs), np.amax(crabs) + 1)\n",
    "    fuels = np.sum(np.abs(xs[:, None] - crabs[None, :]), axis=1)\n",
    "    best_x = np.argmin(fuels)\n",
    "    return best_x, fuels[best_x]\n",
    "\n",
    "def find_alignment_linear_cost(crabs):\n",
    "    crabs = np.array(crabs)\n",
    "    xs = np.arange(np.amin(crabs), np.amax(crabs) + 1)\n",
    "    fuels = np.abs(xs[:, None] - crabs[None, :])\n",
    "    fuels = fuels * (fuels + 1) / 2  # sum from 1 to n\n",
    "    fuels = np.sum(fuels, axis=-1)\n",
    "    best_x = np.argmin(fuels)\n",
    "    return best_x, int(fuels[best_x])"
   ]
  },
  {
   "cell_type": "code",
   "execution_count": 2,
   "metadata": {},
   "outputs": [
    {
     "name": "stdout",
     "output_type": "stream",
     "text": [
      "The best alignment with constant cost is at x=331 and costs \u001b[95;1m333755\u001b[0m fuels\n",
      "The best alignment with increasing cost is at x=465 and costs \u001b[95;1m94017638\u001b[0m fuels\n"
     ]
    }
   ],
   "source": [
    "with open('inputs/day07.txt', 'r') as f:\n",
    "    inputs = list(map(int, f.read().split(',')))\n",
    "    \n",
    "print(\"The best alignment with constant cost is at x={} and costs \\033[95;1m{}\\033[0m fuels\".format(\n",
    "    *find_alignment_constant_cost(inputs)))\n",
    "print(\"The best alignment with increasing cost is at x={} and costs \\033[95;1m{}\\033[0m fuels\".format(\n",
    "    *find_alignment_linear_cost(inputs)))"
   ]
  }
 ],
 "metadata": {
  "kernelspec": {
   "display_name": "Python 3",
   "language": "python",
   "name": "python3"
  },
  "language_info": {
   "codemirror_mode": {
    "name": "ipython",
    "version": 3
   },
   "file_extension": ".py",
   "mimetype": "text/x-python",
   "name": "python",
   "nbconvert_exporter": "python",
   "pygments_lexer": "ipython3",
   "version": "3.8.10"
  }
 },
 "nbformat": 4,
 "nbformat_minor": 4
}
