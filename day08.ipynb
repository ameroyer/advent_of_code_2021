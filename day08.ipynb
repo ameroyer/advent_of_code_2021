{
 "cells": [
  {
   "cell_type": "markdown",
   "metadata": {},
   "source": [
    "# ✨ [Day 8](https://adventofcode.com/2021/day/8)"
   ]
  },
  {
   "cell_type": "code",
   "execution_count": 1,
   "metadata": {},
   "outputs": [],
   "source": [
    "import numpy as np\n",
    "from collections import defaultdict\n",
    "\n",
    "\n",
    "def parse_inputs(x):\n",
    "    lines = x.splitlines()\n",
    "    inputs, outputs = [], []\n",
    "    for l in lines:\n",
    "        if not l: continue\n",
    "        i, o = l.split(' | ')\n",
    "        inputs.append(i.split())\n",
    "        outputs.append(o.split())\n",
    "    return inputs, outputs\n",
    "\n",
    "\n",
    "def match_pattern(x):\n",
    "    \"\"\"Mapp a code entry to possible numbers\"\"\"\n",
    "    if len(x) == 7:\n",
    "        return [8]\n",
    "    elif len(x) == 6:\n",
    "        return [0, 6, 9]\n",
    "    elif len(x) == 5:\n",
    "        return [2, 3, 5]\n",
    "    elif len(x) == 4:\n",
    "        return [4]\n",
    "    elif len(x) == 3:\n",
    "        return [7]\n",
    "    elif len(x) == 2:\n",
    "        return [1]\n",
    "    else:\n",
    "        return []\n",
    "    \n",
    "def find_unique_patterns(lines):\n",
    "    \"\"\"Part 1\"\"\"\n",
    "    return sum(len(match_pattern(x)) == 1 for l in lines for x in l)\n",
    "\n",
    "def determine_mapping(seq, outputs):\n",
    "    \"\"\"Given a sequence of codes, determine the segment mapping\"\"\"\n",
    "    # Add constraints\n",
    "    assignment = defaultdict(lambda: [])\n",
    "    for code in seq:\n",
    "        for possibility in match_pattern(code):\n",
    "            assignment[possibility].append(code)\n",
    "            \n",
    "    # 1 4 7 and 8 are solved\n",
    "    for key in [1, 4, 7, 8]:\n",
    "        assignment[key] = assignment[key][0]\n",
    "    \n",
    "    # disambiguate [2, 3, 5] case\n",
    "    # only \"3\" contains the segments of \"1\"\n",
    "    assignment[3] = [code for code in assignment[3] if all(c in code for c in assignment[1])]\n",
    "    assert len(assignment[3]) == 1\n",
    "    assignment[3] = assignment[3][0]\n",
    "    # \"5\" and \"3\" contains 3 segments of \"4\", while \"2\" only contains 2\n",
    "    assignment[2] = min(assignment[2], key=lambda code: sum(c in code for c in assignment[4]))\n",
    "    # leftover: 5\n",
    "    assignment[5] = [x for x in assignment[5] if x not in [assignment[2], assignment[3]]]\n",
    "    assert len(assignment[5]) == 1\n",
    "    assignment[5] = assignment[5][0]\n",
    "            \n",
    "    # disambiguate [0, 6, 9] case\n",
    "    # \"9\" is the only one that contains all segmentsof \"4\"\n",
    "    assignment[9] = [code for code in assignment[9] if all(c in code for c in assignment[4])]\n",
    "    assert len(assignment[9]) == 1\n",
    "    assignment[9] = assignment[9][0]\n",
    "    # \"6\" contains all segments of \"5\" while \"0\" does not\n",
    "    assignment[6] = [code for code in assignment[6] if (\n",
    "        all(c in code for c in assignment[5]) and code != assignment[9])]\n",
    "    assert len(assignment[6]) == 1\n",
    "    assignment[6] = assignment[6][0]\n",
    "    # leftover : 0\n",
    "    assignment[0] = [x for x in assignment[0] if x not in [assignment[6], assignment[9]]]\n",
    "    assert len(assignment[0]) == 1\n",
    "    assignment[0] = assignment[0][0]\n",
    "    \n",
    "    # Get final output number\n",
    "    rev_index = {tuple(sorted(v)): k for k, v in assignment.items()}\n",
    "    x = 0\n",
    "    for o in outputs:\n",
    "        num = rev_index[tuple(sorted(o))]\n",
    "        x = 10 * x + num\n",
    "    return x\n",
    "\n",
    "\n",
    "def get_output_sum(inputs, outputs):\n",
    "    return sum(determine_mapping(x, y) for x, y in zip(inputs, outputs))"
   ]
  },
  {
   "cell_type": "code",
   "execution_count": 2,
   "metadata": {},
   "outputs": [
    {
     "name": "stdout",
     "output_type": "stream",
     "text": [
      "There are \u001b[92;1m488\u001b[0m unique patterns (1, 4, 7, 8) in the diplayed numbers\n",
      "The sum of decoded outputs is \u001b[92;1m1040429\u001b[0m\n"
     ]
    }
   ],
   "source": [
    "with open('inputs/day08.txt', 'r') as f:\n",
    "    inputs = f.read()\n",
    "    \n",
    "\n",
    "inputs, outputs = parse_inputs(inputs)\n",
    "print(f\"There are \\033[92;1m{find_unique_patterns(outputs)}\\033[0m unique patterns (1, 4, 7, 8)\"\n",
    "      \" in the diplayed numbers\")\n",
    "print(f\"The sum of decoded outputs is \\033[92;1m{get_output_sum(inputs, outputs)}\\033[0m\")"
   ]
  }
 ],
 "metadata": {
  "kernelspec": {
   "display_name": "Python 3",
   "language": "python",
   "name": "python3"
  },
  "language_info": {
   "codemirror_mode": {
    "name": "ipython",
    "version": 3
   },
   "file_extension": ".py",
   "mimetype": "text/x-python",
   "name": "python",
   "nbconvert_exporter": "python",
   "pygments_lexer": "ipython3",
   "version": "3.8.10"
  }
 },
 "nbformat": 4,
 "nbformat_minor": 4
}
