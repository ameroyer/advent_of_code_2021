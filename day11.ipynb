{
 "cells": [
  {
   "cell_type": "markdown",
   "metadata": {},
   "source": [
    "# 🍲 [Day 11](https://adventofcode.com/2021/day/11)"
   ]
  },
  {
   "cell_type": "code",
   "execution_count": 1,
   "metadata": {},
   "outputs": [],
   "source": [
    "import numpy as np\n",
    "\n",
    "\n",
    "def flash(arr, out):\n",
    "    # octopus that flash\n",
    "    flt = (arr > 9).astype(np.float)\n",
    "    num_flashes = np.sum(flt)\n",
    "    if num_flashes == 0:\n",
    "        return out\n",
    "    # add energy to all neighboring octopus\n",
    "    flt = np.pad(flt, ((1, 1), (1, 1)), mode='constant', constant_values=0)\n",
    "    neighbormap = (flt[2:, 1:-1] + flt[:-2, 1:-1] + # left and right\n",
    "                   flt[1:-1, 2:] + flt[1:-1, :-2] + # top and bottom\n",
    "                   flt[2:, 2:] + flt[:-2, :-2] + flt[2:, :-2] + flt[:-2, 2:] # diagonals\n",
    "                  )\n",
    "    arr += neighbormap\n",
    "    # Always reset already flashed octopus\n",
    "    arr[flt[1:-1, 1:-1] > 0] = np.nan\n",
    "    return flash(arr, out + num_flashes)\n",
    "    \n",
    "\n",
    "def game_of_flash(arr, num_steps=10):\n",
    "    num_flashes = 0\n",
    "    for step in range(num_steps):\n",
    "        arr += 1\n",
    "        num_flashes = flash(arr, num_flashes)\n",
    "        arr[np.isnan(arr)] = 0\n",
    "        if np.sum(arr) == 0:\n",
    "            return int(step + 1), int(num_flashes)\n",
    "    return num_steps, int(num_flashes)"
   ]
  },
  {
   "cell_type": "code",
   "execution_count": 2,
   "metadata": {},
   "outputs": [
    {
     "name": "stdout",
     "output_type": "stream",
     "text": [
      "After 100 steps, the dumbo octopuses have flashed a total of \u001b[92;1m1749\u001b[0m times\n",
      "The octopuses synchronize for the first time at step \u001b[92;1m285\u001b[0m\n",
      "\n",
      "CPU times: user 257 ms, sys: 20.2 ms, total: 277 ms\n",
      "Wall time: 270 ms\n"
     ]
    }
   ],
   "source": [
    "%%time\n",
    "with open('inputs/day11.txt', 'r') as f:\n",
    "     inputs = np.array([[float(c) for c in line] for line in f.read().splitlines()])\n",
    "    \n",
    "print(\"After 100 steps, the dumbo octopuses have flashed a total of\"\n",
    "      f\" \\033[92;1m{game_of_flash(np.array(inputs), num_steps=100)[1]}\\033[0m times\")\n",
    "print(\"The octopuses synchronize for the first time at step\"\n",
    "      f\" \\033[92;1m{game_of_flash(np.array(inputs), num_steps=10000000)[0]}\\033[0m\")\n",
    "print()"
   ]
  }
 ],
 "metadata": {
  "kernelspec": {
   "display_name": "Python 3",
   "language": "python",
   "name": "python3"
  },
  "language_info": {
   "codemirror_mode": {
    "name": "ipython",
    "version": 3
   },
   "file_extension": ".py",
   "mimetype": "text/x-python",
   "name": "python",
   "nbconvert_exporter": "python",
   "pygments_lexer": "ipython3",
   "version": "3.8.10"
  }
 },
 "nbformat": 4,
 "nbformat_minor": 4
}
