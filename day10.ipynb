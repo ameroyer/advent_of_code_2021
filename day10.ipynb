{
 "cells": [
  {
   "cell_type": "markdown",
   "metadata": {},
   "source": [
    "# 🍬 [Day 10](https://adventofcode.com/2021/day/10)"
   ]
  },
  {
   "cell_type": "code",
   "execution_count": 29,
   "metadata": {},
   "outputs": [],
   "source": [
    "scores = {\n",
    "    ')': ('(', 3),\n",
    "    ']': ('[', 57),\n",
    "    '}': ('{', 1197),\n",
    "    '>': ('<', 25137)\n",
    "}\n",
    "\n",
    "def find_first_mismatch(s):\n",
    "    queue = []\n",
    "    for c in s:\n",
    "        if c in ['[', '(', '{', '<']:\n",
    "            queue.append(c)\n",
    "        else:\n",
    "            last_open = queue.pop()\n",
    "            if scores[c][0] != last_open:  # mismatch\n",
    "                return scores[c][1], None\n",
    "    # if we're finished we can still get the autocompletion score\n",
    "    # we simply need to mirror the remaining opening characters\n",
    "    autocomplete = 0\n",
    "    for c in queue[::-1]:\n",
    "        autocomplete *= 5\n",
    "        autocomplete += (1 if c == '(' else 2 if c == '[' else 3 if c == '{' else 4) \n",
    "    return 0, autocomplete\n",
    "            \n",
    "def find_mismatch_score(lines):\n",
    "    return sum(find_first_mismatch(s)[0] for s in lines)\n",
    "            \n",
    "def find_autocomplete_score(lines):\n",
    "    scores = [x for s in lines for x in [find_first_mismatch(s)[1]] if x is not None]\n",
    "    scores = sorted(scores)\n",
    "    return scores[int(len(scores) / 2)]"
   ]
  },
  {
   "cell_type": "code",
   "execution_count": 31,
   "metadata": {},
   "outputs": [
    {
     "name": "stdout",
     "output_type": "stream",
     "text": [
      "The total syntax error score for the first mismatch in each line is \u001b[92;1m319233\u001b[0m\n",
      "The total autocompletion score is \u001b[92;1m1118976874\u001b[0m\n"
     ]
    }
   ],
   "source": [
    "with open('inputs/day10.txt', 'r') as f:\n",
    "    lines = f.read().splitlines()\n",
    "    \n",
    "print(\"The total syntax error score for the first mismatch in each line is \\033[92;1m\"\n",
    "      f\"{find_mismatch_score(lines)}\\033[0m\")\n",
    "print(\"The total autocompletion score is \\033[92;1m\"\n",
    "      f\"{find_autocomplete_score(lines)}\\033[0m\")"
   ]
  }
 ],
 "metadata": {
  "kernelspec": {
   "display_name": "Python 3",
   "language": "python",
   "name": "python3"
  },
  "language_info": {
   "codemirror_mode": {
    "name": "ipython",
    "version": 3
   },
   "file_extension": ".py",
   "mimetype": "text/x-python",
   "name": "python",
   "nbconvert_exporter": "python",
   "pygments_lexer": "ipython3",
   "version": "3.8.10"
  }
 },
 "nbformat": 4,
 "nbformat_minor": 4
}
