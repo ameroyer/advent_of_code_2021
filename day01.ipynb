{
 "cells": [
  {
   "cell_type": "markdown",
   "metadata": {},
   "source": [
    "# 🎅 [Day 1](https://adventofcode.com/2021/day/1)"
   ]
  },
  {
   "cell_type": "code",
   "execution_count": 1,
   "metadata": {},
   "outputs": [],
   "source": [
    "def count_increases(nums, window_size=1):\n",
    "    return sum(nums[i] > nums[i - window_size] for i in range(window_size, len(nums)))"
   ]
  },
  {
   "cell_type": "code",
   "execution_count": 2,
   "metadata": {},
   "outputs": [
    {
     "name": "stdout",
     "output_type": "stream",
     "text": [
      "Found 1754 depth increases\n",
      "Found 1789 depth increases with sliding window smoothing\n"
     ]
    }
   ],
   "source": [
    "with open('inputs/day01.txt', 'r') as f:\n",
    "    nums = list(map(int, f.read().splitlines()))\n",
    "    \n",
    "n = count_increases(nums, window_size=1)\n",
    "print(f\"Found {n} depth increases\")\n",
    "\n",
    "n = count_increases(nums, window_size=3)\n",
    "print(f\"Found {n} depth increases with sliding window smoothing\")"
   ]
  }
 ],
 "metadata": {
  "kernelspec": {
   "display_name": "Python 3",
   "language": "python",
   "name": "python3"
  },
  "language_info": {
   "codemirror_mode": {
    "name": "ipython",
    "version": 3
   },
   "file_extension": ".py",
   "mimetype": "text/x-python",
   "name": "python",
   "nbconvert_exporter": "python",
   "pygments_lexer": "ipython3",
   "version": "3.8.10"
  }
 },
 "nbformat": 4,
 "nbformat_minor": 4
}
